{
 "cells": [
  {
   "cell_type": "code",
   "execution_count": 1,
   "metadata": {},
   "outputs": [
    {
     "name": "stderr",
     "output_type": "stream",
     "text": [
      "/home/jupyter-yehlin/.local/lib/python3.9/site-packages/torch/utils/_pytree.py:185: FutureWarning: optree is installed but the version is too old to support PyTorch Dynamo in C++ pytree. C++ pytree support is disabled. Please consider upgrading optree using `python3 -m pip install --upgrade 'optree>=0.13.0'`.\n",
      "  warnings.warn(\n"
     ]
    }
   ],
   "source": [
    "import os\n",
    "os.environ[\"CUDA_DEVICE_ORDER\"] = \"PCI_BUS_ID\"\n",
    "os.environ[\"CUDA_VISIBLE_DEVICES\"] = \"1\"\n",
    "import sys\n",
    "sys.path.append('/home/jupyter-yehlin/Pairformer/boltzdesign')\n",
    "\n",
    "from boltzdesign_utils import *\n",
    "from ligandmpnn_utils import *"
   ]
  },
  {
   "cell_type": "code",
   "execution_count": 2,
   "metadata": {},
   "outputs": [],
   "source": [
    "## ccd_library \n",
    "import pickle\n",
    "import rdkit\n",
    "filename = '/home/jupyter-yehlin/.boltz/ccd.pkl'\n",
    "ccd_lib = pickle.load(open(filename, 'rb'))"
   ]
  },
  {
   "cell_type": "code",
   "execution_count": null,
   "metadata": {},
   "outputs": [],
   "source": [
    "device = torch.device(\"cuda:0\" if torch.cuda.is_available() else \"cpu\")\n",
    "predict_args = {\n",
    "    \"recycling_steps\": 0,  # Default value\n",
    "    \"sampling_steps\": 200,  # Default value\n",
    "    \"diffusion_samples\": 1,  # Default value\n",
    "    \"write_confidence_summary\": True,\n",
    "    \"write_full_pae\": False,\n",
    "    \"write_full_pde\": False,\n",
    "}\n",
    "\n",
    "boltz_model = get_boltz_model('/home/jupyter-yehlin/.boltz/boltz1_conf.ckpt',predict_args,device)\n",
    "boltz_model.train()"
   ]
  },
  {
   "cell_type": "markdown",
   "metadata": {},
   "source": [
    "## Run BoltzDesign"
   ]
  },
  {
   "cell_type": "code",
   "execution_count": 4,
   "metadata": {},
   "outputs": [],
   "source": [
    "##default config\n",
    "config = {\n",
    "    'mutation_rate': 1,\n",
    "    'pre_iteration': 30,\n",
    "    'soft_iteration': 75, \n",
    "    'temp_iteration': 45,\n",
    "    'hard_iteration': 5,\n",
    "    'semi_greedy_steps': 0,\n",
    "    'learning_rate_pre': 0.2,\n",
    "    'learning_rate': 0.1,\n",
    "    'design_algorithm': '3stages',\n",
    "    'set_train': True,\n",
    "    'use_temp': True,\n",
    "    'disconnect_feats': True,\n",
    "    'disconnect_pairformer': False,\n",
    "    'length': 150,\n",
    "    'distogram_only': True,\n",
    "    'binder_chain': 'A', ## A or B\n",
    "    'small_molecule': True,\n",
    "    'mask_ligand': False,\n",
    "    'optimize_per_contact_per_binder_pos': True\n",
    "}\n"
   ]
  },
  {
   "cell_type": "code",
   "execution_count": 5,
   "metadata": {},
   "outputs": [
    {
     "name": "stdout",
     "output_type": "stream",
     "text": [
      "8vhp.yaml\n",
      "6CZI.yaml\n",
      "1HXD.yaml\n",
      "3WC0.yaml\n"
     ]
    }
   ],
   "source": [
    "yaml_dir = '/home/jupyter-yehlin/Pairformer/boltz/examples/rfdiffusion_small_molecule'\n",
    "for yaml_path in os.listdir(yaml_dir):\n",
    "    if yaml_path.endswith('.yaml'):\n",
    "        print(yaml_path)"
   ]
  },
  {
   "cell_type": "code",
   "execution_count": null,
   "metadata": {},
   "outputs": [],
   "source": [
    "import os\n",
    "import yaml\n",
    "\n",
    "# Create a directory for our test YAMLs\n",
    "test_yaml_dir = '/tmp/boltz_test_yamls_fixed_res'\n",
    "os.makedirs(test_yaml_dir, exist_ok=True)\n",
    "\n",
    "test_yaml_filename = os.path.join(test_yaml_dir, '8vhp_fixed_test.yaml')\n",
    "\n",
    "# Define YAML content with fixed residues for chain A\n",
    "yaml_data_fixed_res = {\n",
    "    \"version\": 1,\n",
    "    \"sequences\": [\n",
    "        {\n",
    "            \"protein\": {\n",
    "                \"id\": [\"A\"], \n",
    "                \"sequence\": \"CXXXXXC\", \n",
    "                \"msa\": \"empty\",\n",
    "                \"fixed_residues\": [\n",
    "                    [\"C\", 0],\n",
    "                    [\"C\", 6]\n",
    "                ]\n",
    "            }\n",
    "        },\n",
    "        {\n",
    "            \"ligand\": { \n",
    "                \"id\": [\"B\"], \n",
    "                \"smiles\": \"CN1C=NC2=C1C(=O)N(C(=O)N2C)C\"\n",
    "            }\n",
    "        }\n",
    "    ],\n",
    "    \"constraints\": [ \n",
    "        {\n",
    "            \"pocket\": {\n",
    "                \"binder\": \"A\",\n",
    "                \"contacts\": [[\"B\", 0]]\n",
    "            }\n",
    "        }\n",
    "    ]\n",
    "}\n",
    "\n",
    "with open(test_yaml_filename, 'w') as f:\n",
    "    yaml.dump(yaml_data_fixed_res, f, default_flow_style=False, sort_keys=False)\n",
    "\n",
    "print(f\"Created test YAML: {test_yaml_filename}\")\n",
    "\n",
    "# Assumes 'config' variable is defined in a previous cell\n",
    "config_fixed_test = config.copy() \n",
    "config_fixed_test['length_min'] = 7 \n",
    "config_fixed_test['length_max'] = 7 \n",
    "config_fixed_test['length'] = 7     \n",
    "config_fixed_test['binder_chain'] = 'A'\n",
    "config_fixed_test['pre_iteration'] = 3 \n",
    "config_fixed_test['soft_iteration'] = 3 \n",
    "config_fixed_test['temp_iteration'] = 3 \n",
    "config_fixed_test['hard_iteration'] = 2 \n",
    "config_fixed_test['semi_greedy_steps'] = 1 \n",
    "\n",
    "print(\"Defined config_fixed_test for the fixed residue test run.\")\n",
    "\n",
    "# Original Set up directories and run call below\n",
    "main_dir = '/home/jupyter-yehlin/Pairformer/boltz/examples/rfdiffusion_small_molecule_designs'\n",
    "os.makedirs(main_dir, exist_ok=True)\n",
    "\n",
    "version_name = 'small_molecule_fixed_res_test'\n", # Modified version_name
    "design_samples = 1 # Modified design_samples\n",
    "\n",
    "loss_scales = {\n",
    "    'con_loss': 1.0,\n",
    "    'i_con_loss': 1.0, \n",
    "    'helix_loss': -0.2,\n",
    "    'plddt_loss': 0.1,\n",
    "    'pae_loss': 0.4,\n",
    "    'i_pae_loss': 0.1,\n",
    "    'rg_loss': 0.4,\n",
    "}\n",
    "\n",
    "# Define boltz_path, required by run_boltz_design in utils\n",
    "# This might already be defined globally in the notebook, if not, this is a placeholder.\n",
    "boltz_path = \"boltz\" # Or actual path to boltz CLI tool\n",
    "\n",
    "run_boltz_design(\n",
    "    boltz_path=boltz_path, # Added boltz_path\n",
    "    main_dir=main_dir,\n",
    "    yaml_dir=test_yaml_dir, # Modified yaml_dir\n",
    "    boltz_model=boltz_model,\n",
    "    ccd_lib=ccd_lib,\n",
    "    design_samples=design_samples, # Value is now 1\n",
    "    version_name=version_name, # Value is now 'small_molecule_fixed_res_test'\n",
    "    config=config_fixed_test, # Modified config\n",
    "    loss_scales=loss_scales\n",
    ")"
   ]
  },
  {
   "cell_type": "markdown",
   "metadata": {},
   "source": [
    "## 2. LigandMPNN Redesign"
   ]
  },
  {
   "cell_type": "code",
   "execution_count": 2,
   "metadata": {},
   "outputs": [],
   "source": [
    "boltzdesign_dir = main_dir + '/results_final'\n",
    "pdb_save_dir = main_dir + '/pdb'\n",
    "ligandmpnn_dir = main_dir + '/ligandmpnn'\n",
    "ligandmpnn_config= '/home/jupyter-yehlin/Pairformer/LigandMPNN/run_ligandmpnn_logits_config.yaml'\n",
    "\n",
    "os.makedirs(ligandmpnn_dir, exist_ok=True)\n",
    "convert_cif_files_to_pdb(boltzdesign_dir, pdb_save_dir)\n",
    "run_ligandmpnn_redesign(ligandmpnn_dir, pdb_save_dir, yaml_dir, ligandmpnn_config, top_k=1, cutoff=6, non_protein_ligand=True, binder_chain='A', target_chain='B')\n"
   ]
  },
  {
   "cell_type": "code",
   "execution_count": 32,
   "metadata": {},
   "outputs": [
    {
     "name": "stdout",
     "output_type": "stream",
     "text": [
      "20.980047\n",
      "5.9006677\n",
      "7v11_results_itr1_length150_model_0_1 length: 150 complex_plddt: 0.82 iptm: 0.61 i-pae: 13.44 pae: 2.93\n",
      "17.219994\n",
      "4.119095\n",
      "5sdv_results_itr1_length150_model_0_1 length: 150 complex_plddt: 0.86 iptm: 0.80 i-pae: 10.67 pae: 3.13\n",
      "19.964653\n",
      "7.0432525\n",
      "7bkc_results_itr1_length150_model_0_1 length: 150 complex_plddt: 0.76 iptm: 0.75 i-pae: 13.50 pae: 7.94\n"
     ]
    }
   ],
   "source": [
    "import json\n",
    "import glob\n",
    "import os\n",
    "import numpy as np\n",
    "\n",
    "ligandmpnn_dir_boltz = ligandmpnn_dir + '/boltz_predictions_success_lmpnn'\n",
    "for root in os.listdir(ligandmpnn_dir_boltz):\n",
    "    root_path = os.path.join(ligandmpnn_dir_boltz, root, 'predictions')\n",
    "    for subdir in os.listdir(root_path):\n",
    "        json_path = os.path.join(root_path, subdir, f'confidence_{subdir}_model_0.json')\n",
    "        pae_path = os.path.join(root_path, subdir, f'pae_{subdir}_model_0.npz')\n",
    "\n",
    "        length = int(subdir[subdir.find('length')+6:subdir.find('_model')])\n",
    "        \n",
    "        if os.path.exists(json_path):\n",
    "            with open(json_path, 'r') as f:\n",
    "                data = json.load(f)\n",
    "            design_name = json_path.split('/')[-2]\n",
    "            try:\n",
    "                pae_data = np.load(pae_path)\n",
    "                pae_matrix = pae_data['pae']\n",
    "                interface_pae = np.mean(((pae_matrix + pae_matrix.T)/2)[:length,length:])\n",
    "                print(np.mean(pae_matrix[length:,:length]))\n",
    "                print(np.mean(pae_matrix[:length,length:]))\n",
    "                intra_pae = np.mean(pae_matrix[:length,:length])\n",
    "                print(f\"{design_name} length: {length} complex_plddt: {data['complex_plddt']:.2f} iptm: {data['iptm']:.2f} i-pae: {interface_pae:.2f} pae: {intra_pae:.2f}\")\n",
    "            except KeyError:\n",
    "                print(f\"{design_name} length: {length} complex_plddt: {data['complex_plddt']:.2f} iptm: {data['iptm']:.2f} PAE data not found\")"
   ]
  }
 ],
 "metadata": {
  "kernelspec": {
   "display_name": "boltz_env",
   "language": "python",
   "name": "python3"
  },
  "language_info": {
   "codemirror_mode": {
    "name": "ipython",
    "version": 3
   },
   "file_extension": ".py",
   "mimetype": "text/x-python",
   "name": "python",
   "nbconvert_exporter": "python",
   "pygments_lexer": "ipython3",
   "version": "3.9.21"
  }
 },
 "nbformat": 4,
 "nbformat_minor": 2
}
